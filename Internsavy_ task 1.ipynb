{
 "cells": [
  {
   "cell_type": "code",
   "execution_count": 106,
   "id": "3543ff09",
   "metadata": {},
   "outputs": [],
   "source": [
    "import pandas as pd\n",
    "import numpy as np\n",
    "import matplotlib.pyplot as plt\n",
    "import seaborn as sns\n",
    "\n",
    "import warnings\n",
    "warnings.simplefilter(\"ignore\")"
   ]
  },
  {
   "cell_type": "code",
   "execution_count": 107,
   "id": "80d1301c",
   "metadata": {},
   "outputs": [],
   "source": [
    "df=pd.read_csv(\"graduate.csv\")"
   ]
  },
  {
   "cell_type": "code",
   "execution_count": 108,
   "id": "f430504d",
   "metadata": {},
   "outputs": [
    {
     "data": {
      "text/html": [
       "<div>\n",
       "<style scoped>\n",
       "    .dataframe tbody tr th:only-of-type {\n",
       "        vertical-align: middle;\n",
       "    }\n",
       "\n",
       "    .dataframe tbody tr th {\n",
       "        vertical-align: top;\n",
       "    }\n",
       "\n",
       "    .dataframe thead th {\n",
       "        text-align: right;\n",
       "    }\n",
       "</style>\n",
       "<table border=\"1\" class=\"dataframe\">\n",
       "  <thead>\n",
       "    <tr style=\"text-align: right;\">\n",
       "      <th></th>\n",
       "      <th>Serial No.</th>\n",
       "      <th>GRE Score</th>\n",
       "      <th>TOEFL Score</th>\n",
       "      <th>University Rating</th>\n",
       "      <th>SOP</th>\n",
       "      <th>LOR</th>\n",
       "      <th>CGPA</th>\n",
       "      <th>Research</th>\n",
       "      <th>Chance of Admit</th>\n",
       "      <th>Outcome</th>\n",
       "    </tr>\n",
       "  </thead>\n",
       "  <tbody>\n",
       "    <tr>\n",
       "      <th>0</th>\n",
       "      <td>1</td>\n",
       "      <td>337</td>\n",
       "      <td>118</td>\n",
       "      <td>4</td>\n",
       "      <td>4.5</td>\n",
       "      <td>4.5</td>\n",
       "      <td>9.65</td>\n",
       "      <td>1</td>\n",
       "      <td>0.92</td>\n",
       "      <td>1</td>\n",
       "    </tr>\n",
       "    <tr>\n",
       "      <th>1</th>\n",
       "      <td>2</td>\n",
       "      <td>324</td>\n",
       "      <td>107</td>\n",
       "      <td>4</td>\n",
       "      <td>4.0</td>\n",
       "      <td>4.5</td>\n",
       "      <td>8.87</td>\n",
       "      <td>1</td>\n",
       "      <td>0.76</td>\n",
       "      <td>1</td>\n",
       "    </tr>\n",
       "    <tr>\n",
       "      <th>2</th>\n",
       "      <td>3</td>\n",
       "      <td>316</td>\n",
       "      <td>104</td>\n",
       "      <td>3</td>\n",
       "      <td>3.0</td>\n",
       "      <td>3.5</td>\n",
       "      <td>8.00</td>\n",
       "      <td>1</td>\n",
       "      <td>0.72</td>\n",
       "      <td>1</td>\n",
       "    </tr>\n",
       "    <tr>\n",
       "      <th>3</th>\n",
       "      <td>4</td>\n",
       "      <td>322</td>\n",
       "      <td>110</td>\n",
       "      <td>3</td>\n",
       "      <td>3.5</td>\n",
       "      <td>2.5</td>\n",
       "      <td>8.67</td>\n",
       "      <td>1</td>\n",
       "      <td>0.80</td>\n",
       "      <td>1</td>\n",
       "    </tr>\n",
       "    <tr>\n",
       "      <th>4</th>\n",
       "      <td>5</td>\n",
       "      <td>314</td>\n",
       "      <td>103</td>\n",
       "      <td>2</td>\n",
       "      <td>2.0</td>\n",
       "      <td>3.0</td>\n",
       "      <td>8.21</td>\n",
       "      <td>0</td>\n",
       "      <td>0.65</td>\n",
       "      <td>1</td>\n",
       "    </tr>\n",
       "  </tbody>\n",
       "</table>\n",
       "</div>"
      ],
      "text/plain": [
       "   Serial No.  GRE Score  TOEFL Score  University Rating  SOP  LOR   CGPA  \\\n",
       "0           1        337          118                  4  4.5   4.5  9.65   \n",
       "1           2        324          107                  4  4.0   4.5  8.87   \n",
       "2           3        316          104                  3  3.0   3.5  8.00   \n",
       "3           4        322          110                  3  3.5   2.5  8.67   \n",
       "4           5        314          103                  2  2.0   3.0  8.21   \n",
       "\n",
       "   Research  Chance of Admit   Outcome  \n",
       "0         1              0.92        1  \n",
       "1         1              0.76        1  \n",
       "2         1              0.72        1  \n",
       "3         1              0.80        1  \n",
       "4         0              0.65        1  "
      ]
     },
     "execution_count": 108,
     "metadata": {},
     "output_type": "execute_result"
    }
   ],
   "source": [
    "df.head()"
   ]
  },
  {
   "cell_type": "code",
   "execution_count": 109,
   "id": "da486e9f",
   "metadata": {},
   "outputs": [
    {
     "data": {
      "text/plain": [
       "1    367\n",
       "0     33\n",
       "Name: Outcome, dtype: int64"
      ]
     },
     "execution_count": 109,
     "metadata": {},
     "output_type": "execute_result"
    }
   ],
   "source": [
    "df[\"Outcome\"].value_counts()"
   ]
  },
  {
   "cell_type": "code",
   "execution_count": 110,
   "id": "aa4c662a",
   "metadata": {},
   "outputs": [
    {
     "name": "stdout",
     "output_type": "stream",
     "text": [
      "<class 'pandas.core.frame.DataFrame'>\n",
      "RangeIndex: 400 entries, 0 to 399\n",
      "Data columns (total 10 columns):\n",
      " #   Column             Non-Null Count  Dtype  \n",
      "---  ------             --------------  -----  \n",
      " 0   Serial No.         400 non-null    int64  \n",
      " 1   GRE Score          400 non-null    int64  \n",
      " 2   TOEFL Score        400 non-null    int64  \n",
      " 3   University Rating  400 non-null    int64  \n",
      " 4   SOP                400 non-null    float64\n",
      " 5   LOR                400 non-null    float64\n",
      " 6   CGPA               400 non-null    float64\n",
      " 7   Research           400 non-null    int64  \n",
      " 8   Chance of Admit    400 non-null    float64\n",
      " 9   Outcome            400 non-null    int64  \n",
      "dtypes: float64(4), int64(6)\n",
      "memory usage: 31.4 KB\n"
     ]
    }
   ],
   "source": [
    "df.info()"
   ]
  },
  {
   "cell_type": "code",
   "execution_count": 111,
   "id": "3e97d8fb",
   "metadata": {},
   "outputs": [
    {
     "data": {
      "text/plain": [
       "0"
      ]
     },
     "execution_count": 111,
     "metadata": {},
     "output_type": "execute_result"
    }
   ],
   "source": [
    "df.duplicated().sum()"
   ]
  },
  {
   "cell_type": "code",
   "execution_count": 112,
   "id": "a6c1276c",
   "metadata": {},
   "outputs": [
    {
     "data": {
      "text/plain": [
       "3    133\n",
       "2    107\n",
       "4     74\n",
       "5     60\n",
       "1     26\n",
       "Name: University Rating, dtype: int64"
      ]
     },
     "execution_count": 112,
     "metadata": {},
     "output_type": "execute_result"
    }
   ],
   "source": [
    "df[\"University Rating\"].value_counts()"
   ]
  },
  {
   "cell_type": "code",
   "execution_count": 113,
   "id": "f8e21e36",
   "metadata": {},
   "outputs": [
    {
     "data": {
      "text/plain": [
       "4.0    70\n",
       "3.5    70\n",
       "3.0    64\n",
       "4.5    53\n",
       "2.5    47\n",
       "5.0    37\n",
       "2.0    33\n",
       "1.5    20\n",
       "1.0     6\n",
       "Name: SOP, dtype: int64"
      ]
     },
     "execution_count": 113,
     "metadata": {},
     "output_type": "execute_result"
    }
   ],
   "source": [
    "df[\"SOP\"].value_counts()"
   ]
  },
  {
   "cell_type": "code",
   "execution_count": 114,
   "id": "0a66c43e",
   "metadata": {},
   "outputs": [
    {
     "data": {
      "text/plain": [
       "array([9.65, 8.87, 8.  , 8.67, 8.21, 9.34, 8.2 , 7.9 , 8.6 , 8.4 , 9.  ,\n",
       "       9.1 , 8.3 , 8.7 , 8.8 , 8.5 , 9.5 , 9.7 , 9.8 , 9.6 , 7.5 , 7.2 ,\n",
       "       7.3 , 8.1 , 9.4 , 9.2 , 7.8 , 7.7 , 9.3 , 8.85, 7.4 , 7.6 , 6.8 ,\n",
       "       8.92, 9.02, 8.64, 9.22, 9.16, 9.64, 9.76, 9.45, 9.04, 8.9 , 8.56,\n",
       "       8.72, 8.22, 7.54, 7.36, 8.02, 9.36, 8.66, 8.42, 8.28, 8.14, 8.76,\n",
       "       7.92, 7.66, 8.03, 7.88, 7.84, 8.96, 9.24, 8.88, 8.46, 8.12, 8.25,\n",
       "       8.47, 9.05, 8.78, 9.18, 9.46, 9.38, 8.48, 8.68, 8.34, 8.45, 8.62,\n",
       "       7.46, 7.28, 8.84, 9.56, 9.48, 8.36, 9.32, 8.71, 9.35, 8.65, 9.28,\n",
       "       8.77, 8.16, 9.08, 9.12, 9.15, 9.44, 9.92, 9.11, 8.26, 9.43, 9.06,\n",
       "       8.75, 8.89, 8.69, 7.86, 9.01, 8.97, 8.33, 8.27, 7.98, 8.04, 9.07,\n",
       "       9.13, 9.23, 8.32, 8.98, 8.94, 9.53, 8.52, 8.43, 8.54, 9.91, 9.87,\n",
       "       7.65, 7.89, 9.14, 9.66, 9.78, 9.42, 9.26, 8.79, 8.23, 8.53, 8.07,\n",
       "       9.31, 9.17, 9.19, 8.37, 7.68, 8.15, 8.73, 8.83, 8.57, 9.68, 8.09,\n",
       "       8.17, 7.64, 8.01, 7.95, 8.49, 7.87, 7.97, 8.18, 8.55, 8.74, 8.13,\n",
       "       8.44, 9.47, 8.24, 7.34, 7.43, 7.25, 8.06, 7.67, 9.54, 9.62, 7.56,\n",
       "       9.74, 9.82, 7.96])"
      ]
     },
     "execution_count": 114,
     "metadata": {},
     "output_type": "execute_result"
    }
   ],
   "source": [
    "df[\"CGPA\"].unique()"
   ]
  },
  {
   "cell_type": "code",
   "execution_count": 115,
   "id": "8f9fb844",
   "metadata": {},
   "outputs": [
    {
     "data": {
      "text/plain": [
       "1    219\n",
       "0    181\n",
       "Name: Research, dtype: int64"
      ]
     },
     "execution_count": 115,
     "metadata": {},
     "output_type": "execute_result"
    }
   ],
   "source": [
    "df[\"Research\"].value_counts()"
   ]
  },
  {
   "cell_type": "code",
   "execution_count": 116,
   "id": "7dafd290",
   "metadata": {},
   "outputs": [
    {
     "data": {
      "text/plain": [
       "-0.0628934593601882"
      ]
     },
     "execution_count": 116,
     "metadata": {},
     "output_type": "execute_result"
    }
   ],
   "source": [
    "df[\"GRE Score\"].skew()"
   ]
  },
  {
   "cell_type": "code",
   "execution_count": 117,
   "id": "22a85322",
   "metadata": {},
   "outputs": [
    {
     "data": {
      "text/plain": [
       "0.05721591369844269"
      ]
     },
     "execution_count": 117,
     "metadata": {},
     "output_type": "execute_result"
    }
   ],
   "source": [
    "df[\"TOEFL Score\"].skew()"
   ]
  },
  {
   "cell_type": "code",
   "execution_count": 118,
   "id": "67bc412b",
   "metadata": {},
   "outputs": [
    {
     "data": {
      "text/plain": [
       "-0.3534480999327828"
      ]
     },
     "execution_count": 118,
     "metadata": {},
     "output_type": "execute_result"
    }
   ],
   "source": [
    "df[\"Chance of Admit \"].skew()"
   ]
  },
  {
   "cell_type": "code",
   "execution_count": 119,
   "id": "eed76cfc",
   "metadata": {},
   "outputs": [],
   "source": [
    "#No Encoding required\n"
   ]
  },
  {
   "cell_type": "code",
   "execution_count": 120,
   "id": "29217fcd",
   "metadata": {},
   "outputs": [
    {
     "data": {
      "text/html": [
       "<div>\n",
       "<style scoped>\n",
       "    .dataframe tbody tr th:only-of-type {\n",
       "        vertical-align: middle;\n",
       "    }\n",
       "\n",
       "    .dataframe tbody tr th {\n",
       "        vertical-align: top;\n",
       "    }\n",
       "\n",
       "    .dataframe thead th {\n",
       "        text-align: right;\n",
       "    }\n",
       "</style>\n",
       "<table border=\"1\" class=\"dataframe\">\n",
       "  <thead>\n",
       "    <tr style=\"text-align: right;\">\n",
       "      <th></th>\n",
       "      <th>Serial No.</th>\n",
       "      <th>GRE Score</th>\n",
       "      <th>TOEFL Score</th>\n",
       "      <th>University Rating</th>\n",
       "      <th>SOP</th>\n",
       "      <th>LOR</th>\n",
       "      <th>CGPA</th>\n",
       "      <th>Research</th>\n",
       "      <th>Chance of Admit</th>\n",
       "      <th>Outcome</th>\n",
       "    </tr>\n",
       "  </thead>\n",
       "  <tbody>\n",
       "    <tr>\n",
       "      <th>Serial No.</th>\n",
       "      <td>1.000000</td>\n",
       "      <td>-0.097526</td>\n",
       "      <td>-0.147932</td>\n",
       "      <td>-0.169948</td>\n",
       "      <td>-0.166932</td>\n",
       "      <td>-0.088221</td>\n",
       "      <td>-0.045608</td>\n",
       "      <td>-0.063138</td>\n",
       "      <td>0.042336</td>\n",
       "      <td>0.070234</td>\n",
       "    </tr>\n",
       "    <tr>\n",
       "      <th>GRE Score</th>\n",
       "      <td>-0.097526</td>\n",
       "      <td>1.000000</td>\n",
       "      <td>0.835977</td>\n",
       "      <td>0.668976</td>\n",
       "      <td>0.612831</td>\n",
       "      <td>0.557555</td>\n",
       "      <td>0.833060</td>\n",
       "      <td>0.580391</td>\n",
       "      <td>0.802610</td>\n",
       "      <td>0.385893</td>\n",
       "    </tr>\n",
       "    <tr>\n",
       "      <th>TOEFL Score</th>\n",
       "      <td>-0.147932</td>\n",
       "      <td>0.835977</td>\n",
       "      <td>1.000000</td>\n",
       "      <td>0.695590</td>\n",
       "      <td>0.657981</td>\n",
       "      <td>0.567721</td>\n",
       "      <td>0.828417</td>\n",
       "      <td>0.489858</td>\n",
       "      <td>0.791594</td>\n",
       "      <td>0.392032</td>\n",
       "    </tr>\n",
       "    <tr>\n",
       "      <th>University Rating</th>\n",
       "      <td>-0.169948</td>\n",
       "      <td>0.668976</td>\n",
       "      <td>0.695590</td>\n",
       "      <td>1.000000</td>\n",
       "      <td>0.734523</td>\n",
       "      <td>0.660123</td>\n",
       "      <td>0.746479</td>\n",
       "      <td>0.447783</td>\n",
       "      <td>0.711250</td>\n",
       "      <td>0.269569</td>\n",
       "    </tr>\n",
       "    <tr>\n",
       "      <th>SOP</th>\n",
       "      <td>-0.166932</td>\n",
       "      <td>0.612831</td>\n",
       "      <td>0.657981</td>\n",
       "      <td>0.734523</td>\n",
       "      <td>1.000000</td>\n",
       "      <td>0.729593</td>\n",
       "      <td>0.718144</td>\n",
       "      <td>0.444029</td>\n",
       "      <td>0.675732</td>\n",
       "      <td>0.268372</td>\n",
       "    </tr>\n",
       "    <tr>\n",
       "      <th>LOR</th>\n",
       "      <td>-0.088221</td>\n",
       "      <td>0.557555</td>\n",
       "      <td>0.567721</td>\n",
       "      <td>0.660123</td>\n",
       "      <td>0.729593</td>\n",
       "      <td>1.000000</td>\n",
       "      <td>0.670211</td>\n",
       "      <td>0.396859</td>\n",
       "      <td>0.669889</td>\n",
       "      <td>0.338544</td>\n",
       "    </tr>\n",
       "    <tr>\n",
       "      <th>CGPA</th>\n",
       "      <td>-0.045608</td>\n",
       "      <td>0.833060</td>\n",
       "      <td>0.828417</td>\n",
       "      <td>0.746479</td>\n",
       "      <td>0.718144</td>\n",
       "      <td>0.670211</td>\n",
       "      <td>1.000000</td>\n",
       "      <td>0.521654</td>\n",
       "      <td>0.873289</td>\n",
       "      <td>0.450311</td>\n",
       "    </tr>\n",
       "    <tr>\n",
       "      <th>Research</th>\n",
       "      <td>-0.063138</td>\n",
       "      <td>0.580391</td>\n",
       "      <td>0.489858</td>\n",
       "      <td>0.447783</td>\n",
       "      <td>0.444029</td>\n",
       "      <td>0.396859</td>\n",
       "      <td>0.521654</td>\n",
       "      <td>1.000000</td>\n",
       "      <td>0.553202</td>\n",
       "      <td>0.220306</td>\n",
       "    </tr>\n",
       "    <tr>\n",
       "      <th>Chance of Admit</th>\n",
       "      <td>0.042336</td>\n",
       "      <td>0.802610</td>\n",
       "      <td>0.791594</td>\n",
       "      <td>0.711250</td>\n",
       "      <td>0.675732</td>\n",
       "      <td>0.669889</td>\n",
       "      <td>0.873289</td>\n",
       "      <td>0.553202</td>\n",
       "      <td>1.000000</td>\n",
       "      <td>0.599288</td>\n",
       "    </tr>\n",
       "    <tr>\n",
       "      <th>Outcome</th>\n",
       "      <td>0.070234</td>\n",
       "      <td>0.385893</td>\n",
       "      <td>0.392032</td>\n",
       "      <td>0.269569</td>\n",
       "      <td>0.268372</td>\n",
       "      <td>0.338544</td>\n",
       "      <td>0.450311</td>\n",
       "      <td>0.220306</td>\n",
       "      <td>0.599288</td>\n",
       "      <td>1.000000</td>\n",
       "    </tr>\n",
       "  </tbody>\n",
       "</table>\n",
       "</div>"
      ],
      "text/plain": [
       "                   Serial No.  GRE Score  TOEFL Score  University Rating  \\\n",
       "Serial No.           1.000000  -0.097526    -0.147932          -0.169948   \n",
       "GRE Score           -0.097526   1.000000     0.835977           0.668976   \n",
       "TOEFL Score         -0.147932   0.835977     1.000000           0.695590   \n",
       "University Rating   -0.169948   0.668976     0.695590           1.000000   \n",
       "SOP                 -0.166932   0.612831     0.657981           0.734523   \n",
       "LOR                 -0.088221   0.557555     0.567721           0.660123   \n",
       "CGPA                -0.045608   0.833060     0.828417           0.746479   \n",
       "Research            -0.063138   0.580391     0.489858           0.447783   \n",
       "Chance of Admit      0.042336   0.802610     0.791594           0.711250   \n",
       "Outcome              0.070234   0.385893     0.392032           0.269569   \n",
       "\n",
       "                        SOP      LOR       CGPA  Research  Chance of Admit   \\\n",
       "Serial No.        -0.166932 -0.088221 -0.045608 -0.063138          0.042336   \n",
       "GRE Score          0.612831  0.557555  0.833060  0.580391          0.802610   \n",
       "TOEFL Score        0.657981  0.567721  0.828417  0.489858          0.791594   \n",
       "University Rating  0.734523  0.660123  0.746479  0.447783          0.711250   \n",
       "SOP                1.000000  0.729593  0.718144  0.444029          0.675732   \n",
       "LOR                0.729593  1.000000  0.670211  0.396859          0.669889   \n",
       "CGPA               0.718144  0.670211  1.000000  0.521654          0.873289   \n",
       "Research           0.444029  0.396859  0.521654  1.000000          0.553202   \n",
       "Chance of Admit    0.675732  0.669889  0.873289  0.553202          1.000000   \n",
       "Outcome            0.268372  0.338544  0.450311  0.220306          0.599288   \n",
       "\n",
       "                    Outcome  \n",
       "Serial No.         0.070234  \n",
       "GRE Score          0.385893  \n",
       "TOEFL Score        0.392032  \n",
       "University Rating  0.269569  \n",
       "SOP                0.268372  \n",
       "LOR                0.338544  \n",
       "CGPA               0.450311  \n",
       "Research           0.220306  \n",
       "Chance of Admit    0.599288  \n",
       "Outcome            1.000000  "
      ]
     },
     "execution_count": 120,
     "metadata": {},
     "output_type": "execute_result"
    }
   ],
   "source": [
    "df.corr()"
   ]
  },
  {
   "cell_type": "code",
   "execution_count": 121,
   "id": "71a69e39",
   "metadata": {},
   "outputs": [],
   "source": [
    "df.drop(\"Serial No.\",axis=1,inplace=True)"
   ]
  },
  {
   "cell_type": "code",
   "execution_count": 122,
   "id": "2f0df276",
   "metadata": {},
   "outputs": [],
   "source": [
    "#Renaming Column\n",
    "df=df.rename(columns={\"GRE Score\":\"GRE\",\"TOEFL Score\":\"TOEFL\",\"University Rating\":\"UR\",\"SOP\":\"SOP\",\"LOR \":\"LOR\",\"CGPA\":\"CGPA\",\n",
    "                     \"Research\":\"Research\",\"Chance of Admit \":\"COA\",\"Outcome\":\"Outcome\"})"
   ]
  },
  {
   "cell_type": "code",
   "execution_count": 123,
   "id": "5a0ff782",
   "metadata": {},
   "outputs": [
    {
     "data": {
      "text/plain": [
       "Index(['GRE', 'TOEFL', 'UR', 'SOP', 'LOR', 'CGPA', 'Research', 'COA',\n",
       "       'Outcome'],\n",
       "      dtype='object')"
      ]
     },
     "execution_count": 123,
     "metadata": {},
     "output_type": "execute_result"
    }
   ],
   "source": [
    "df.columns"
   ]
  },
  {
   "cell_type": "code",
   "execution_count": 124,
   "id": "e724c851",
   "metadata": {},
   "outputs": [
    {
     "data": {
      "text/html": [
       "<div>\n",
       "<style scoped>\n",
       "    .dataframe tbody tr th:only-of-type {\n",
       "        vertical-align: middle;\n",
       "    }\n",
       "\n",
       "    .dataframe tbody tr th {\n",
       "        vertical-align: top;\n",
       "    }\n",
       "\n",
       "    .dataframe thead th {\n",
       "        text-align: right;\n",
       "    }\n",
       "</style>\n",
       "<table border=\"1\" class=\"dataframe\">\n",
       "  <thead>\n",
       "    <tr style=\"text-align: right;\">\n",
       "      <th></th>\n",
       "      <th>Variables</th>\n",
       "      <th>VIF</th>\n",
       "    </tr>\n",
       "  </thead>\n",
       "  <tbody>\n",
       "    <tr>\n",
       "      <th>0</th>\n",
       "      <td>GRE</td>\n",
       "      <td>4.741225</td>\n",
       "    </tr>\n",
       "    <tr>\n",
       "      <th>1</th>\n",
       "      <td>TOEFL</td>\n",
       "      <td>4.367622</td>\n",
       "    </tr>\n",
       "    <tr>\n",
       "      <th>2</th>\n",
       "      <td>UR</td>\n",
       "      <td>3.012697</td>\n",
       "    </tr>\n",
       "    <tr>\n",
       "      <th>3</th>\n",
       "      <td>SOP</td>\n",
       "      <td>3.107304</td>\n",
       "    </tr>\n",
       "    <tr>\n",
       "      <th>4</th>\n",
       "      <td>LOR</td>\n",
       "      <td>2.534961</td>\n",
       "    </tr>\n",
       "    <tr>\n",
       "      <th>5</th>\n",
       "      <td>CGPA</td>\n",
       "      <td>6.470399</td>\n",
       "    </tr>\n",
       "    <tr>\n",
       "      <th>6</th>\n",
       "      <td>Research</td>\n",
       "      <td>1.600091</td>\n",
       "    </tr>\n",
       "    <tr>\n",
       "      <th>7</th>\n",
       "      <td>COA</td>\n",
       "      <td>inf</td>\n",
       "    </tr>\n",
       "    <tr>\n",
       "      <th>8</th>\n",
       "      <td>Outcome</td>\n",
       "      <td>1.771202</td>\n",
       "    </tr>\n",
       "  </tbody>\n",
       "</table>\n",
       "</div>"
      ],
      "text/plain": [
       "  Variables       VIF\n",
       "0       GRE  4.741225\n",
       "1     TOEFL  4.367622\n",
       "2        UR  3.012697\n",
       "3       SOP  3.107304\n",
       "4       LOR  2.534961\n",
       "5      CGPA  6.470399\n",
       "6  Research  1.600091\n",
       "7       COA       inf\n",
       "8   Outcome  1.771202"
      ]
     },
     "execution_count": 124,
     "metadata": {},
     "output_type": "execute_result"
    }
   ],
   "source": [
    "# There is problem of Multi Collinearity\n",
    "#calicating the vif values\n",
    "import statsmodels.formula.api as smf\n",
    "rsq_GRE_Score=smf.ols(\"GRE~TOEFL+UR+SOP+LOR+CGPA+Research+COA+Outcome\",data=df).fit().rsquared\n",
    "vif_GRE_Score=1/(1-rsq_GRE_Score)\n",
    "\n",
    "rsq_TOEFL_Score=smf.ols(\"TOEFL~GRE+UR+SOP+LOR+CGPA+Research+COA+Outcome\",data=df).fit().rsquared\n",
    "vif_TOEFL_Score=1/(1-rsq_TOEFL_Score)\n",
    "\n",
    "rsq_University_Rating=smf.ols(\"UR~TOEFL+GRE+SOP+LOR+CGPA+Research+COA+Outcome\",data=df).fit().rsquared\n",
    "vif_University_Rating=1/(1-rsq_University_Rating)\n",
    "\n",
    "rsq_SOP=smf.ols(\"SOP~UR+TOEFL+GRE+LOR+CGPA+Research+COA+Outcome\",data=df).fit().rsquared\n",
    "vif_SOP=1/(1-rsq_SOP)\n",
    "\n",
    "rsq_LOR=smf.ols(\"LOR~UR+TOEFL+GRE+SOP+CGPA+Research+COA+Outcome\",data=df).fit().rsquared\n",
    "vif_LOR=1/(1-rsq_LOR)\n",
    "\n",
    "rsq_CGPA=smf.ols(\"CGPA~UR+TOEFL+GRE+SOP+LOR+Research+COA+Outcome\",data=df).fit().rsquared\n",
    "vif_CGPA=1/(1-rsq_CGPA)\n",
    "\n",
    "rsq_Research=smf.ols(\"Research~UR+TOEFL+GRE+SOP+LOR+CGPA+COA+Outcome\",data=df).fit().rsquared\n",
    "vif_Research=1/(1-rsq_Research)\n",
    "\n",
    "rsq_Chance_of_Admit=smf.ols(\"COA~Research+UR+TOEFL+GRE+SOP+LOR+CGPA+COA+Outcome\",data=df).fit().rsquared\n",
    "vif_Chance_of_Admit=1/(1-rsq_Chance_of_Admit)\n",
    "\n",
    "\n",
    "rsq_Outcome=smf.ols(\"Outcome~Research+UR+TOEFL+GRE+SOP+LOR+CGPA+COA\",data=df).fit().rsquared\n",
    "vif_Outcome=1/(1-rsq_Outcome)\n",
    "\n",
    "\n",
    "#storing vif values \n",
    "d1={\"Variables\":['GRE','TOEFL','UR','SOP','LOR','CGPA','Research','COA','Outcome'],\n",
    "        \"VIF\":[vif_GRE_Score,vif_TOEFL_Score,vif_University_Rating,vif_SOP,vif_LOR,vif_CGPA,vif_Research,\n",
    "               vif_Chance_of_Admit,vif_Outcome]}\n",
    "Vif_frame=pd.DataFrame(d1)\n",
    "Vif_frame"
   ]
  },
  {
   "cell_type": "code",
   "execution_count": 125,
   "id": "5fb11e2c",
   "metadata": {},
   "outputs": [],
   "source": [
    "df.drop([\"CGPA\",\"COA\",\"GRE\",\"TOEFL\"],axis=1,inplace=True)"
   ]
  },
  {
   "cell_type": "code",
   "execution_count": 126,
   "id": "83b34b63",
   "metadata": {},
   "outputs": [
    {
     "data": {
      "text/html": [
       "<div>\n",
       "<style scoped>\n",
       "    .dataframe tbody tr th:only-of-type {\n",
       "        vertical-align: middle;\n",
       "    }\n",
       "\n",
       "    .dataframe tbody tr th {\n",
       "        vertical-align: top;\n",
       "    }\n",
       "\n",
       "    .dataframe thead th {\n",
       "        text-align: right;\n",
       "    }\n",
       "</style>\n",
       "<table border=\"1\" class=\"dataframe\">\n",
       "  <thead>\n",
       "    <tr style=\"text-align: right;\">\n",
       "      <th></th>\n",
       "      <th>UR</th>\n",
       "      <th>SOP</th>\n",
       "      <th>LOR</th>\n",
       "      <th>Research</th>\n",
       "      <th>Outcome</th>\n",
       "    </tr>\n",
       "  </thead>\n",
       "  <tbody>\n",
       "    <tr>\n",
       "      <th>0</th>\n",
       "      <td>4</td>\n",
       "      <td>4.5</td>\n",
       "      <td>4.5</td>\n",
       "      <td>1</td>\n",
       "      <td>1</td>\n",
       "    </tr>\n",
       "    <tr>\n",
       "      <th>1</th>\n",
       "      <td>4</td>\n",
       "      <td>4.0</td>\n",
       "      <td>4.5</td>\n",
       "      <td>1</td>\n",
       "      <td>1</td>\n",
       "    </tr>\n",
       "    <tr>\n",
       "      <th>2</th>\n",
       "      <td>3</td>\n",
       "      <td>3.0</td>\n",
       "      <td>3.5</td>\n",
       "      <td>1</td>\n",
       "      <td>1</td>\n",
       "    </tr>\n",
       "    <tr>\n",
       "      <th>3</th>\n",
       "      <td>3</td>\n",
       "      <td>3.5</td>\n",
       "      <td>2.5</td>\n",
       "      <td>1</td>\n",
       "      <td>1</td>\n",
       "    </tr>\n",
       "    <tr>\n",
       "      <th>4</th>\n",
       "      <td>2</td>\n",
       "      <td>2.0</td>\n",
       "      <td>3.0</td>\n",
       "      <td>0</td>\n",
       "      <td>1</td>\n",
       "    </tr>\n",
       "  </tbody>\n",
       "</table>\n",
       "</div>"
      ],
      "text/plain": [
       "   UR  SOP  LOR  Research  Outcome\n",
       "0   4  4.5  4.5         1        1\n",
       "1   4  4.0  4.5         1        1\n",
       "2   3  3.0  3.5         1        1\n",
       "3   3  3.5  2.5         1        1\n",
       "4   2  2.0  3.0         0        1"
      ]
     },
     "execution_count": 126,
     "metadata": {},
     "output_type": "execute_result"
    }
   ],
   "source": [
    "df.head()"
   ]
  },
  {
   "cell_type": "code",
   "execution_count": 127,
   "id": "f434167d",
   "metadata": {},
   "outputs": [],
   "source": [
    "X=df.drop(\"Outcome\",axis=1)\n",
    "y=df[\"Outcome\"]"
   ]
  },
  {
   "cell_type": "code",
   "execution_count": 128,
   "id": "05d84fa2",
   "metadata": {},
   "outputs": [
    {
     "data": {
      "text/plain": [
       "1    367\n",
       "0     33\n",
       "Name: Outcome, dtype: int64"
      ]
     },
     "execution_count": 128,
     "metadata": {},
     "output_type": "execute_result"
    }
   ],
   "source": [
    "#Balacing the data\n",
    "df[\"Outcome\"].value_counts()"
   ]
  },
  {
   "cell_type": "code",
   "execution_count": 129,
   "id": "6478a729",
   "metadata": {},
   "outputs": [
    {
     "data": {
      "text/plain": [
       "1    367\n",
       "0    367\n",
       "Name: Outcome, dtype: int64"
      ]
     },
     "execution_count": 129,
     "metadata": {},
     "output_type": "execute_result"
    }
   ],
   "source": [
    "#balancing the imbalance data set\n",
    "from imblearn.over_sampling import SMOTE\n",
    "SMOTE=SMOTE()\n",
    "X,y=SMOTE.fit_resample(X,y)\n",
    "y.value_counts()"
   ]
  },
  {
   "cell_type": "code",
   "execution_count": 130,
   "id": "b97cc707",
   "metadata": {},
   "outputs": [],
   "source": [
    "#train_test_split#train Test split\n",
    "from sklearn.model_selection import train_test_split\n",
    "X_train,X_test,y_train,y_test=train_test_split(X,y,test_size=0.2,random_state=9)\n"
   ]
  },
  {
   "cell_type": "code",
   "execution_count": 131,
   "id": "830c7471",
   "metadata": {},
   "outputs": [],
   "source": [
    "#scaling\n",
    "from sklearn.preprocessing import StandardScaler\n",
    "ss=StandardScaler()\n",
    "X=ss.fit_transform(X)\n"
   ]
  },
  {
   "cell_type": "code",
   "execution_count": 132,
   "id": "2040050d",
   "metadata": {},
   "outputs": [],
   "source": [
    "##pca:\n",
    "# sklearn.decomposition import PCA\n",
    "#pca_model=PCA(n_components=0.95)\n",
    "\n",
    "#X_train_pca=pca_model.fit_transform(X_train)\n",
    "#  X_test_pca=pca_model.fit_transform(X_test)"
   ]
  },
  {
   "cell_type": "code",
   "execution_count": 133,
   "id": "9aa35afc",
   "metadata": {},
   "outputs": [],
   "source": [
    "#pca_model.explained_variance_ratio_"
   ]
  },
  {
   "cell_type": "code",
   "execution_count": 134,
   "id": "609cc10d",
   "metadata": {},
   "outputs": [],
   "source": [
    "#X_train_pca.shape"
   ]
  },
  {
   "cell_type": "code",
   "execution_count": 135,
   "id": "c3abe0ae",
   "metadata": {},
   "outputs": [],
   "source": [
    "#X_train_pca"
   ]
  },
  {
   "cell_type": "code",
   "execution_count": 136,
   "id": "dc3202dd",
   "metadata": {},
   "outputs": [
    {
     "name": "stdout",
     "output_type": "stream",
     "text": [
      "test_accuracy: 0.8367346938775511\n",
      "train_accuracy: 0.8330494037478705\n",
      "cross_validation_score: 0.8351132233715404\n"
     ]
    }
   ],
   "source": [
    "#Modelling\n",
    "#logistic regression\n",
    "#modelling\n",
    "from sklearn.linear_model import LogisticRegression\n",
    "log_reg=LogisticRegression()\n",
    "log_reg.fit(X_train,y_train)\n",
    "\n",
    "#prediction\n",
    "test_pred=log_reg.predict(X_test)\n",
    "train_pred=log_reg.predict(X_train)\n",
    "\n",
    "#accuracy\n",
    "from sklearn.metrics import accuracy_score\n",
    "print(\"test_accuracy:\",accuracy_score(y_test,test_pred))\n",
    "print(\"train_accuracy:\",accuracy_score(y_train,train_pred))\n",
    "\n",
    "#crossvalidation score:\n",
    "from sklearn.model_selection import cross_val_score\n",
    "print(\"cross_validation_score:\",cross_val_score(log_reg,X,y,cv=5).mean())"
   ]
  },
  {
   "cell_type": "code",
   "execution_count": 137,
   "id": "ea63c449",
   "metadata": {},
   "outputs": [
    {
     "data": {
      "text/plain": [
       "array([[66,  9],\n",
       "       [15, 57]], dtype=int64)"
      ]
     },
     "execution_count": 137,
     "metadata": {},
     "output_type": "execute_result"
    }
   ],
   "source": [
    "#confusion matrix\n",
    "from sklearn.metrics import confusion_matrix\n",
    "confusion_matrix(y_test,test_pred)"
   ]
  },
  {
   "cell_type": "code",
   "execution_count": 138,
   "id": "6d35465f",
   "metadata": {},
   "outputs": [
    {
     "name": "stdout",
     "output_type": "stream",
     "text": [
      "              precision    recall  f1-score   support\n",
      "\n",
      "           0       0.81      0.88      0.85        75\n",
      "           1       0.86      0.79      0.83        72\n",
      "\n",
      "    accuracy                           0.84       147\n",
      "   macro avg       0.84      0.84      0.84       147\n",
      "weighted avg       0.84      0.84      0.84       147\n",
      "\n"
     ]
    }
   ],
   "source": [
    "#classification report\n",
    "from sklearn.metrics import classification_report\n",
    "print(classification_report(y_test,test_pred))"
   ]
  },
  {
   "cell_type": "code",
   "execution_count": 139,
   "id": "1750abae",
   "metadata": {},
   "outputs": [
    {
     "data": {
      "image/png": "[encoded data removed]",
      "text/plain": [
       "<Figure size 640x480 with 1 Axes>"
      ]
     },
     "metadata": {},
     "output_type": "display_data"
    }
   ],
   "source": [
    "#auc\n",
    "from sklearn.metrics import plot_roc_curve\n",
    "plot_roc_curve(log_reg,X_test,y_test)\n",
    "plt.show()"
   ]
  },
  {
   "cell_type": "code",
   "execution_count": 140,
   "id": "ab9ebc68",
   "metadata": {},
   "outputs": [
    {
     "name": "stdout",
     "output_type": "stream",
     "text": [
      "train_accuracy: 0.9011925042589438\n",
      "test_accuracy: 0.8163265306122449\n",
      "Cross_validation_score: 0.81881464914733\n"
     ]
    }
   ],
   "source": [
    "#knn\n",
    "#Default modelling\n",
    "from sklearn.neighbors import KNeighborsClassifier\n",
    "knn_model=KNeighborsClassifier()\n",
    "knn_model.fit(X_train,y_train)\n",
    "\n",
    "\n",
    "#PREDICTION\n",
    "y_pred_test=knn_model.predict(X_test)\n",
    "y_pred_train=knn_model.predict(X_train)\n",
    "\n",
    "#Evaluation\n",
    "from sklearn.metrics import accuracy_score\n",
    "print(\"train_accuracy:\",accuracy_score(y_train,y_pred_train))\n",
    "print(\"test_accuracy:\",accuracy_score(y_test,y_pred_test))\n",
    "\n",
    "from sklearn.model_selection import cross_val_score\n",
    "print(\"Cross_validation_score:\",cross_val_score(knn_model,X,y,cv=5).mean())"
   ]
  },
  {
   "cell_type": "code",
   "execution_count": 141,
   "id": "6aeb4e8d",
   "metadata": {},
   "outputs": [
    {
     "data": {
      "text/plain": [
       "{'n_neighbors': 1, 'p': 2}"
      ]
     },
     "execution_count": 141,
     "metadata": {},
     "output_type": "execute_result"
    }
   ],
   "source": [
    "#hyperparameter tunning\n",
    "from sklearn.model_selection import GridSearchCV\n",
    "\n",
    "estimator=KNeighborsClassifier()\n",
    "param_grid={\"n_neighbors\":list(range(1,31,2)),\"p\":[1,2]}\n",
    "\n",
    "cv_classifier=GridSearchCV(estimator,param_grid,cv=5,scoring=\"accuracy\")\n",
    "cv_classifier.fit(X_train,y_train)\n",
    "cv_classifier.best_params_"
   ]
  },
  {
   "cell_type": "code",
   "execution_count": 162,
   "id": "ee973938",
   "metadata": {},
   "outputs": [
    {
     "name": "stdout",
     "output_type": "stream",
     "text": [
      "test_accuracy: 0.8707482993197279\n",
      "train_accuracy: 0.9505962521294719\n",
      "Cross_validation_score: 0.8378809057869724\n"
     ]
    }
   ],
   "source": [
    "#best modelling\n",
    "#MODELLING\n",
    "knn_best_model=KNeighborsClassifier(n_neighbors=1,p=2)\n",
    "knn_best_model.fit(X_train,y_train)\n",
    "\n",
    "#PREDICTION\n",
    "y_pred_test=knn_best_model.predict(X_test)\n",
    "y_pred_train=knn_best_model.predict(X_train)\n",
    "\n",
    "#EVALUATION\n",
    "print(\"test_accuracy:\",accuracy_score(y_test,y_pred_test))\n",
    "print(\"train_accuracy:\",accuracy_score(y_train,y_pred_train))\n",
    "\n",
    "#cross validatiom\n",
    "\n",
    "print(\"Cross_validation_score:\",cross_val_score(knn_best_model,X,y,cv=5).mean())"
   ]
  },
  {
   "cell_type": "code",
   "execution_count": 163,
   "id": "0091c79f",
   "metadata": {},
   "outputs": [
    {
     "data": {
      "text/plain": [
       "array([[66,  9],\n",
       "       [10, 62]], dtype=int64)"
      ]
     },
     "execution_count": 163,
     "metadata": {},
     "output_type": "execute_result"
    }
   ],
   "source": [
    "#confusion matrix\n",
    "from sklearn.metrics import confusion_matrix\n",
    "confusion_matrix(y_test,y_pred_test)"
   ]
  },
  {
   "cell_type": "code",
   "execution_count": 164,
   "id": "ec2fcd49",
   "metadata": {},
   "outputs": [
    {
     "name": "stdout",
     "output_type": "stream",
     "text": [
      "              precision    recall  f1-score   support\n",
      "\n",
      "           0       0.87      0.88      0.87        75\n",
      "           1       0.87      0.86      0.87        72\n",
      "\n",
      "    accuracy                           0.87       147\n",
      "   macro avg       0.87      0.87      0.87       147\n",
      "weighted avg       0.87      0.87      0.87       147\n",
      "\n"
     ]
    }
   ],
   "source": [
    "#Classification report\n",
    "from sklearn.metrics import classification_report\n",
    "print(classification_report(y_test,y_pred_test))"
   ]
  },
  {
   "cell_type": "code",
   "execution_count": 165,
   "id": "89b82423",
   "metadata": {},
   "outputs": [
    {
     "name": "stdout",
     "output_type": "stream",
     "text": [
      "train_accuracy= 0.8415672913117547\n",
      "test_accuracy= 0.8367346938775511\n",
      "Cross_validation_score: 0.8364737675892273\n"
     ]
    }
   ],
   "source": [
    "#svm\n",
    "from sklearn.svm import SVC\n",
    "model=SVC()\n",
    "model.fit(X_train,y_train)\n",
    "\n",
    "#prediction\n",
    "y_pred_train = model.predict(X_train)\n",
    "y_pred_test= model.predict(X_test)\n",
    "\n",
    "#accuracy\n",
    "from sklearn.metrics import accuracy_score\n",
    "print(\"train_accuracy=\",accuracy_score(y_train,y_pred_train))\n",
    "print(\"test_accuracy=\",accuracy_score(y_test,y_pred_test))\n",
    "from sklearn.model_selection import cross_val_score\n",
    "print(\"Cross_validation_score:\",cross_val_score(model,X,y,cv=5).mean())"
   ]
  },
  {
   "cell_type": "code",
   "execution_count": 166,
   "id": "67ac8e63",
   "metadata": {},
   "outputs": [
    {
     "data": {
      "text/plain": [
       "GridSearchCV(cv=5, estimator=SVC(),\n",
       "             param_grid={'C': [1, 2, 3, 4, 5, 6, 7, 8, 9, 10, 11, 12, 13, 14,\n",
       "                               15, 16, 17, 18, 19, 20, 21, 22, 23, 24, 25, 26,\n",
       "                               27, 28, 29, 30, ...],\n",
       "                         'kernel': ['linear', 'rbf', 'sigmoid', 'poly']})"
      ]
     },
     "execution_count": 166,
     "metadata": {},
     "output_type": "execute_result"
    }
   ],
   "source": [
    "from sklearn.model_selection import GridSearchCV\n",
    "\n",
    "estimator=SVC()\n",
    "\n",
    "param_grid={\"C\":list(range(1,50,1)),\"kernel\":[\"linear\",\"rbf\",\"sigmoid\",\"poly\"]}\n",
    "\n",
    "grid=GridSearchCV(estimator,param_grid,cv=5)\n",
    "\n",
    "grid.fit(X,y)"
   ]
  },
  {
   "cell_type": "code",
   "execution_count": 167,
   "id": "f92761bf",
   "metadata": {},
   "outputs": [
    {
     "data": {
      "text/plain": [
       "{'C': 12, 'kernel': 'rbf'}"
      ]
     },
     "execution_count": 167,
     "metadata": {},
     "output_type": "execute_result"
    }
   ],
   "source": [
    "grid.best_params_"
   ]
  },
  {
   "cell_type": "code",
   "execution_count": 168,
   "id": "87298a60",
   "metadata": {},
   "outputs": [
    {
     "name": "stdout",
     "output_type": "stream",
     "text": [
      "Train_accuracy: 0.8568994889267462\n",
      "Test_accuracy: 0.8571428571428571\n",
      "Cross_validation_score: 0.8773739632839437\n"
     ]
    }
   ],
   "source": [
    "model_r=SVC(kernel=\"rbf\",C=12)\n",
    "model_r.fit(X_train,y_train)\n",
    "\n",
    "y_pred_train = model_r.predict(X_train)\n",
    "y_pred_test = model_r.predict(X_test)\n",
    "\n",
    "print(\"Train_accuracy:\",accuracy_score(y_train,y_pred_train))\n",
    "print(\"Test_accuracy:\",accuracy_score(y_test,y_pred_test))\n",
    "print(\"Cross_validation_score:\",cross_val_score(model_r,X,y,cv=5).mean())"
   ]
  },
  {
   "cell_type": "code",
   "execution_count": 169,
   "id": "c448dcce",
   "metadata": {},
   "outputs": [
    {
     "name": "stdout",
     "output_type": "stream",
     "text": [
      "test_accuracy: 0.8775510204081632\n",
      "train_accurcay: 0.9574105621805792\n",
      "Cross_validation_score: 0.9087410306588388\n"
     ]
    }
   ],
   "source": [
    "#Decission Tree\n",
    "#decission tree classifier default model\n",
    "from sklearn.tree import DecisionTreeClassifier\n",
    "dt_base=DecisionTreeClassifier(random_state=0)\n",
    "dt_base.fit(X_train,y_train)\n",
    "\n",
    "#prediction\n",
    "pred_train=dt_base.predict(X_train)\n",
    "pred_test=dt_base.predict(X_test)\n",
    "\n",
    "#evaluation\n",
    "\n",
    "#1.train and test accuracy\n",
    "from sklearn.metrics import accuracy_score\n",
    "print(\"test_accuracy:\",accuracy_score(pred_test,y_test))\n",
    "print(\"train_accurcay:\",accuracy_score(pred_train,y_train))\n",
    "\n",
    "#2.Cross validation score\n",
    "from sklearn.model_selection import cross_val_score\n",
    "print(\"Cross_validation_score:\",cross_val_score(dt_base,X,y,cv=5).mean())"
   ]
  },
  {
   "cell_type": "code",
   "execution_count": 170,
   "id": "ff3f1f1a",
   "metadata": {},
   "outputs": [
    {
     "data": {
      "text/plain": [
       "{'criterion': 'gini', 'max_depth': 3}"
      ]
     },
     "execution_count": 170,
     "metadata": {},
     "output_type": "execute_result"
    }
   ],
   "source": [
    "from sklearn.model_selection import GridSearchCV\n",
    "\n",
    "#Model\n",
    "estimator= DecisionTreeClassifier(random_state=0)\n",
    "\n",
    "param_grid={\"criterion\":[\"gini\",\"entropy\"],\"max_depth\":[1,2,3,4]}\n",
    "\n",
    "grid=GridSearchCV(estimator,param_grid,scoring=\"accuracy\",cv=5)\n",
    "\n",
    "grid.fit(X_train,y_train)\n",
    "\n",
    "grid.best_params_"
   ]
  },
  {
   "cell_type": "code",
   "execution_count": 171,
   "id": "8031451d",
   "metadata": {},
   "outputs": [
    {
     "name": "stdout",
     "output_type": "stream",
     "text": [
      "Train_accuracy: 0.8364565587734242\n",
      "Test_accuracy: 0.8299319727891157\n",
      "Cross_validation_score: 0.828310502283105\n"
     ]
    }
   ],
   "source": [
    "\n",
    "dt_best=DecisionTreeClassifier(criterion=\"gini\",max_depth=3,random_state=0)\n",
    "dt_best.fit(X_train,y_train)\n",
    "\n",
    "y_pred_test= dt_best.predict(X_test)\n",
    "y_pred_train=dt_best.predict(X_train)\n",
    "\n",
    "print(\"Train_accuracy:\",accuracy_score(y_pred_train,y_train))\n",
    "print(\"Test_accuracy:\",accuracy_score(y_pred_test,y_test))\n",
    "print(\"Cross_validation_score:\",cross_val_score(dt_best,X,y,cv=5).mean())"
   ]
  },
  {
   "cell_type": "code",
   "execution_count": 172,
   "id": "2eb2bc88",
   "metadata": {},
   "outputs": [
    {
     "name": "stdout",
     "output_type": "stream",
     "text": [
      "test_accuracy: 0.891156462585034\n",
      "train_accurcay: 0.9574105621805792\n",
      "Cross_validation_score: 0.9087037554747927\n"
     ]
    }
   ],
   "source": [
    "#Random Forest\n",
    "#decission tree classifier default model\n",
    "from sklearn.ensemble import RandomForestClassifier\n",
    "model=RandomForestClassifier(random_state=0)\n",
    "model.fit(X_train,y_train)\n",
    "\n",
    "#prediction\n",
    "pred_train=model.predict(X_train)\n",
    "pred_test=model.predict(X_test)\n",
    "\n",
    "#evaluation\n",
    "\n",
    "#1.train and test accuracy\n",
    "from sklearn.metrics import accuracy_score\n",
    "print(\"test_accuracy:\",accuracy_score(pred_test,y_test))\n",
    "print(\"train_accurcay:\",accuracy_score(pred_train,y_train))\n",
    "\n",
    "#2.Cross validation score\n",
    "from sklearn.model_selection import cross_val_score\n",
    "print(\"Cross_validation_score:\",cross_val_score(model,X,y,cv=5).mean())"
   ]
  },
  {
   "cell_type": "code",
   "execution_count": 173,
   "id": "4b397eb5",
   "metadata": {},
   "outputs": [
    {
     "data": {
      "text/plain": [
       "{'n_estimators': 12}"
      ]
     },
     "execution_count": 173,
     "metadata": {},
     "output_type": "execute_result"
    }
   ],
   "source": [
    "from sklearn.model_selection import GridSearchCV\n",
    "\n",
    "#Model\n",
    "estimator= RandomForestClassifier(random_state=0)\n",
    "\n",
    "param_grid={\"n_estimators\":list(range(1,101))}\n",
    "\n",
    "grid=GridSearchCV(estimator,param_grid,scoring=\"accuracy\",cv=5)\n",
    "\n",
    "grid.fit(X_train,y_train)\n",
    "\n",
    "grid.best_params_"
   ]
  },
  {
   "cell_type": "code",
   "execution_count": 174,
   "id": "ce123708",
   "metadata": {},
   "outputs": [
    {
     "name": "stdout",
     "output_type": "stream",
     "text": [
      "test_accuracy: 0.8775510204081632\n",
      "train_accurcay: 0.9557069846678024\n",
      "Cross_validation_score: 0.9046407604137545\n"
     ]
    }
   ],
   "source": [
    "model=RandomForestClassifier(n_estimators=12,random_state=0)\n",
    "model.fit(X_train,y_train)\n",
    "\n",
    "#prediction\n",
    "pred_train=model.predict(X_train)\n",
    "pred_test=model.predict(X_test)\n",
    "\n",
    "#evaluation\n",
    "\n",
    "#1.train and test accuracy\n",
    "from sklearn.metrics import accuracy_score\n",
    "print(\"test_accuracy:\",accuracy_score(pred_test,y_test))\n",
    "print(\"train_accurcay:\",accuracy_score(pred_train,y_train))\n",
    "\n",
    "#2.Cross validation score\n",
    "from sklearn.model_selection import cross_val_score\n",
    "print(\"Cross_validation_score:\",cross_val_score(model,X,y,cv=5).mean())"
   ]
  },
  {
   "cell_type": "code",
   "execution_count": 175,
   "id": "3487e701",
   "metadata": {},
   "outputs": [
    {
     "name": "stdout",
     "output_type": "stream",
     "text": [
      "Train_accuracy: 0.9080068143100511\n",
      "Test_accuracy: 0.8775510204081632\n",
      "Cross_Validation_score: 0.8814649147330165\n"
     ]
    }
   ],
   "source": [
    "#ADA BOOST\n",
    "#modelling\n",
    "from sklearn.ensemble import AdaBoostClassifier\n",
    "model=AdaBoostClassifier()\n",
    "model.fit(X_train,y_train)\n",
    "\n",
    "#prediction\n",
    "ypred_train=model.predict(X_train)\n",
    "predictions=model.predict(X_test)\n",
    "\n",
    "#Evaluation\n",
    "from sklearn.metrics import accuracy_score\n",
    "print(\"Train_accuracy:\",accuracy_score(y_train,ypred_train))\n",
    "print(\"Test_accuracy:\",accuracy_score(y_test,predictions))\n",
    "\n",
    "from sklearn.model_selection import cross_val_score\n",
    "print(\"Cross_Validation_score:\",cross_val_score(model,X,y,cv=5).mean())"
   ]
  },
  {
   "cell_type": "code",
   "execution_count": 176,
   "id": "2a155894",
   "metadata": {},
   "outputs": [
    {
     "data": {
      "text/plain": [
       "{'n_estimators': 48}"
      ]
     },
     "execution_count": 176,
     "metadata": {},
     "output_type": "execute_result"
    }
   ],
   "source": [
    "from sklearn.model_selection import GridSearchCV\n",
    "\n",
    "#Estimator\n",
    "estimator=AdaBoostClassifier()\n",
    "\n",
    "#param_grid\n",
    "param_grid={\"n_estimators\":list(range(1,51))}\n",
    "\n",
    "\n",
    "#gridsearch\n",
    "grid=GridSearchCV(estimator,param_grid,cv=5,scoring=\"accuracy\")\n",
    "\n",
    "#fit the model\n",
    "grid.fit(X_train,y_train)\n",
    "\n",
    "#best parameter\n",
    "grid.best_params_"
   ]
  },
  {
   "cell_type": "code",
   "execution_count": 177,
   "id": "e9eab426",
   "metadata": {},
   "outputs": [
    {
     "name": "stdout",
     "output_type": "stream",
     "text": [
      "Train_accuracy: 0.9080068143100511\n",
      "Test_accuracy: 0.8707482993197279\n",
      "Cross_Validation_score: 0.8828254589507036\n"
     ]
    }
   ],
   "source": [
    "#modelling\n",
    "from sklearn.ensemble import AdaBoostClassifier\n",
    "ada_bhp=AdaBoostClassifier(n_estimators=48)\n",
    "ada_bhp.fit(X_train,y_train)\n",
    "\n",
    "#prediction\n",
    "ypred_train=ada_bhp.predict(X_train)\n",
    "predictions=ada_bhp.predict(X_test)\n",
    "\n",
    "#Evaluation\n",
    "from sklearn.metrics import accuracy_score\n",
    "print(\"Train_accuracy:\",accuracy_score(y_train,ypred_train))\n",
    "print(\"Test_accuracy:\",accuracy_score(y_test,predictions))\n",
    "\n",
    "from sklearn.model_selection import cross_val_score\n",
    "print(\"Cross_Validation_score:\",cross_val_score(ada_bhp,X,y,cv=5).mean())"
   ]
  },
  {
   "cell_type": "code",
   "execution_count": 178,
   "id": "5ecca54b",
   "metadata": {},
   "outputs": [
    {
     "name": "stdout",
     "output_type": "stream",
     "text": [
      "Train_accuracy: 0.9454855195911414\n",
      "Test_accuracy: 0.8571428571428571\n",
      "Cross_Validation_score: 0.914145932345541\n"
     ]
    }
   ],
   "source": [
    "#GRADIENT BOOSTING\n",
    "#modelling\n",
    "from sklearn.ensemble import GradientBoostingClassifier\n",
    "gb_model=GradientBoostingClassifier()\n",
    "gb_model.fit(X_train,y_train)\n",
    "\n",
    "#prediction\n",
    "ypred_train=gb_model.predict(X_train)\n",
    "ypred_test=gb_model.predict(X_test)\n",
    "\n",
    "#Evaluation\n",
    "from sklearn.metrics import accuracy_score\n",
    "print(\"Train_accuracy:\",accuracy_score(y_train,ypred_train))\n",
    "print(\"Test_accuracy:\",accuracy_score(y_test,ypred_test))\n",
    "\n",
    "from sklearn.model_selection import cross_val_score\n",
    "print(\"Cross_Validation_score:\",cross_val_score(gb_model,X,y,cv=5).mean())"
   ]
  },
  {
   "cell_type": "code",
   "execution_count": 179,
   "id": "67b0fd6b",
   "metadata": {},
   "outputs": [
    {
     "data": {
      "text/plain": [
       "{'learning_rate': 0.2, 'n_estimators': 900}"
      ]
     },
     "execution_count": 179,
     "metadata": {},
     "output_type": "execute_result"
    }
   ],
   "source": [
    "#hyperparameter tunning\n",
    "from sklearn.model_selection import GridSearchCV\n",
    "\n",
    "#Estimator\n",
    "estimator=GradientBoostingClassifier()\n",
    "\n",
    "#param_grid\n",
    "param_grid={\"n_estimators\":[600,700,800,900,1000],\n",
    "           \"learning_rate\":[0.1,0.2,0.5,0.8,1]}\n",
    "\n",
    "\n",
    "#gridsearch\n",
    "grid=GridSearchCV(estimator,param_grid,cv=5,scoring=\"accuracy\")\n",
    "\n",
    "#fit the model\n",
    "grid.fit(X_train,y_train)\n",
    "\n",
    "#best parameter\n",
    "grid.best_params_"
   ]
  },
  {
   "cell_type": "code",
   "execution_count": 180,
   "id": "44ee8e48",
   "metadata": {},
   "outputs": [
    {
     "name": "stdout",
     "output_type": "stream",
     "text": [
      "Train_accuracy: 0.9574105621805792\n",
      "Test_accuracy: 0.9115646258503401\n",
      "Cross_Validation_score: 0.9291585127201566\n"
     ]
    }
   ],
   "source": [
    "#modelling\n",
    "from sklearn.ensemble import GradientBoostingClassifier\n",
    "gb_bhp=GradientBoostingClassifier(learning_rate=0.2,n_estimators=900)\n",
    "gb_bhp.fit(X_train,y_train)\n",
    "\n",
    "#prediction\n",
    "ypred_train=gb_bhp.predict(X_train)\n",
    "ypred_test=gb_bhp.predict(X_test)\n",
    "\n",
    "#Evaluation\n",
    "from sklearn.metrics import accuracy_score\n",
    "print(\"Train_accuracy:\",accuracy_score(y_train,ypred_train))\n",
    "print(\"Test_accuracy:\",accuracy_score(y_test,ypred_test))\n",
    "\n",
    "from sklearn.model_selection import cross_val_score\n",
    "print(\"Cross_Validation_score:\",cross_val_score(gb_bhp,X,y,cv=5).mean())"
   ]
  },
  {
   "cell_type": "code",
   "execution_count": 181,
   "id": "229d2a80",
   "metadata": {},
   "outputs": [
    {
     "name": "stdout",
     "output_type": "stream",
     "text": [
      "Train_accuracy: 0.9574105621805792\n",
      "Test_accuracy: 0.891156462585034\n",
      "Cross_Validation_score: 0.9236883794613735\n"
     ]
    }
   ],
   "source": [
    "#XG BOOST\n",
    "#modelling\n",
    "from xgboost import XGBClassifier\n",
    "xgb_model=XGBClassifier()\n",
    "xgb_model.fit(X_train,y_train)\n",
    "\n",
    "#prediction\n",
    "ypred_train=xgb_model.predict(X_train)\n",
    "ypred_test=xgb_model.predict(X_test)\n",
    "\n",
    "#Evaluation\n",
    "from sklearn.metrics import accuracy_score\n",
    "print(\"Train_accuracy:\",accuracy_score(y_train,ypred_train))\n",
    "print(\"Test_accuracy:\",accuracy_score(y_test,ypred_test))\n",
    "\n",
    "from sklearn.model_selection import cross_val_score\n",
    "print(\"Cross_Validation_score:\",cross_val_score(xgb_model,X,y,cv=5).mean())"
   ]
  },
  {
   "cell_type": "code",
   "execution_count": 183,
   "id": "fa975e3d",
   "metadata": {},
   "outputs": [
    {
     "data": {
      "text/plain": [
       "{'gamma': 0.1, 'max_depth': 3, 'n_estimators': 150}"
      ]
     },
     "execution_count": 183,
     "metadata": {},
     "output_type": "execute_result"
    }
   ],
   "source": [
    "#hyperparameter tunning\n",
    "from sklearn.model_selection import GridSearchCV\n",
    "\n",
    "#Estimator\n",
    "estimator=XGBClassifier()\n",
    "\n",
    "#param_grid\n",
    "param_grid={\"n_estimators\":[100,150,170],\n",
    "           \"max_depth\":[1,2,3,4],\n",
    "           \"gamma\":[0.1,0.3,0.5,0.7,1]}\n",
    "\n",
    "\n",
    "#gridsearch\n",
    "grid=GridSearchCV(estimator,param_grid,cv=5,scoring=\"accuracy\")\n",
    "\n",
    "#fit the model\n",
    "grid.fit(X_train,y_train)\n",
    "\n",
    "#best parameter\n",
    "grid.best_params_"
   ]
  },
  {
   "cell_type": "code",
   "execution_count": 184,
   "id": "3f5635f7",
   "metadata": {},
   "outputs": [
    {
     "name": "stdout",
     "output_type": "stream",
     "text": [
      "Train_accuracy: 0.9522998296422487\n",
      "Test_accuracy: 0.891156462585034\n",
      "Cross_Validation_score: 0.9168949771689497\n"
     ]
    }
   ],
   "source": [
    "#modelling\n",
    "from xgboost import XGBClassifier\n",
    "xgb_bhp=XGBClassifier(gamma=0.1,max_depth=4,n_estimators=150)\n",
    "xgb_bhp.fit(X_train,y_train)\n",
    "\n",
    "#prediction\n",
    "ypred_train=xgb_bhp.predict(X_train)\n",
    "ypred_test=xgb_bhp.predict(X_test)\n",
    "\n",
    "#Evaluation\n",
    "from sklearn.metrics import accuracy_score\n",
    "print(\"Train_accuracy:\",accuracy_score(y_train,ypred_train))\n",
    "print(\"Test_accuracy:\",accuracy_score(y_test,ypred_test))\n",
    "\n",
    "from sklearn.model_selection import cross_val_score\n",
    "print(\"Cross_Validation_score:\",cross_val_score(xgb_bhp,X,y,cv=5).mean())"
   ]
  },
  {
   "cell_type": "markdown",
   "id": "c3d966ed",
   "metadata": {},
   "source": [
    "# Saving the Best Model"
   ]
  },
  {
   "cell_type": "code",
   "execution_count": 185,
   "id": "6cfd7f1a",
   "metadata": {},
   "outputs": [],
   "source": [
    "import pickle"
   ]
  },
  {
   "cell_type": "code",
   "execution_count": 186,
   "id": "05715322",
   "metadata": {},
   "outputs": [],
   "source": [
    "#saving the Gradient boost model\n",
    "pickle.dump(gb_bhp,open(\"model.pkl\",\"wb\"))"
   ]
  },
  {
   "cell_type": "code",
   "execution_count": null,
   "id": "f12953dc",
   "metadata": {},
   "outputs": [],
   "source": []
  }
 ],
 "metadata": {
  "kernelspec": {
   "display_name": "Python 3 (ipykernel)",
   "language": "python",
   "name": "python3"
  },
  "language_info": {
   "codemirror_mode": {
    "name": "ipython",
    "version": 3
   },
   "file_extension": ".py",
   "mimetype": "text/x-python",
   "name": "python",
   "nbconvert_exporter": "python",
   "pygments_lexer": "ipython3",
   "version": "3.9.13"
  }
 },
 "nbformat": 4,
 "nbformat_minor": 5
}
